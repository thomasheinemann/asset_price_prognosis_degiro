{
 "cells": [
  {
   "cell_type": "markdown",
   "metadata": {},
   "source": [
    "### 1 Login"
   ]
  },
  {
   "cell_type": "markdown",
   "metadata": {},
   "source": [
    "#### 1.1 Load libraries for login"
   ]
  },
  {
   "cell_type": "code",
   "execution_count": 1,
   "metadata": {},
   "outputs": [],
   "source": [
    "import csv\n",
    "import degiroapi   # https://www.reddit.com/r/DEGIRO/comments/ze8xz7/unoffical_degiroapi_not_working_anymore/    # requires package request\n",
    "from degiroapi.product import Product"
   ]
  },
  {
   "cell_type": "markdown",
   "metadata": {},
   "source": [
    "#### 1.2 Read login information from \"user_data.csv\"\n",
    "Syntax for the \"user_data.csv\" file:\n",
    "\n",
    "<!-- language: lang-none -->\n",
    "    username,password\n",
    "    <my account name>,<my password>"
   ]
  },
  {
   "cell_type": "code",
   "execution_count": 2,
   "metadata": {},
   "outputs": [],
   "source": [
    "\n",
    "\n",
    "# Read the data from the CSV file\n",
    "filename = \"user_data.csv\"\n",
    "\n",
    "# Open the CSV file in read mode\n",
    "with open(filename, \"r\") as csvfile:\n",
    "    # Create a CSV reader object\n",
    "    csvreader = csv.reader(csvfile)\n",
    "\n",
    "    # Read the first row to get the fields\n",
    "    fields = next(csvreader)\n",
    "\n",
    "    # Create a list to store the data\n",
    "    user_data = []\n",
    "\n",
    "    # Read the remaining rows and add the data to the list\n",
    "    for row in csvreader:\n",
    "        user_data.append(row)"
   ]
  },
  {
   "cell_type": "markdown",
   "metadata": {},
   "source": [
    "#### <span style=\"color:red\"> 1.3 Enter one time password (totp) </span>"
   ]
  },
  {
   "cell_type": "code",
   "execution_count": 3,
   "metadata": {},
   "outputs": [],
   "source": [
    "totp=\"778224\""
   ]
  },
  {
   "cell_type": "markdown",
   "metadata": {},
   "source": [
    "#### 1.4 Request login"
   ]
  },
  {
   "cell_type": "code",
   "execution_count": 4,
   "metadata": {},
   "outputs": [],
   "source": [
    "# Login to DeGiro & output all user data\n",
    "\n",
    "degiro = degiroapi.DeGiro()\n",
    "account_data=degiro.login(user_data[0][0], user_data[0][1],totp)\n",
    "# pprint(account_data)"
   ]
  },
  {
   "cell_type": "markdown",
   "metadata": {},
   "source": [
    "### 2 Print portfolio infos"
   ]
  },
  {
   "cell_type": "code",
   "execution_count": null,
   "metadata": {},
   "outputs": [],
   "source": [
    "# Print the current cash funds\n",
    "cashfunds = degiro.getdata(degiroapi.Data.Type.CASHFUNDS)\n",
    "for data in cashfunds:\n",
    "    print(data)"
   ]
  },
  {
   "cell_type": "code",
   "execution_count": null,
   "metadata": {},
   "outputs": [],
   "source": [
    "# Print the current portfolio (True to filter Products with size 0, False to show all)\n",
    "portfolio = degiro.getdata(degiroapi.Data.Type.PORTFOLIO, True)\n",
    "for data in portfolio:\n",
    "    print(data)"
   ]
  }
 ],
 "metadata": {
  "kernelspec": {
   "display_name": ".venv",
   "language": "python",
   "name": "python3"
  },
  "language_info": {
   "codemirror_mode": {
    "name": "ipython",
    "version": 3
   },
   "file_extension": ".py",
   "mimetype": "text/x-python",
   "name": "python",
   "nbconvert_exporter": "python",
   "pygments_lexer": "ipython3",
   "version": "3.11.1"
  }
 },
 "nbformat": 4,
 "nbformat_minor": 2
}
